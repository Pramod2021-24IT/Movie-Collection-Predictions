{
 "cells": [
  {
   "cell_type": "markdown",
   "id": "d70f5426-4d8c-4321-a65c-2e7b063ce65c",
   "metadata": {},
   "source": [
    "## I). Importing Libraries "
   ]
  },
  {
   "cell_type": "code",
   "execution_count": 1,
   "id": "d35d6731-4929-49fa-a95f-5fb585c8afde",
   "metadata": {},
   "outputs": [],
   "source": [
    "import pandas as pd\n",
    "import numpy as np\n",
    "import matplotlib.pyplot as plt\n",
    "from sklearn.model_selection import train_test_split\n",
    "from sklearn.preprocessing import StandardScaler\n",
    "import tensorflow as tf\n",
    "from tensorflow import keras"
   ]
  },
  {
   "cell_type": "markdown",
   "id": "ac176afb-7fb2-4daf-ac0c-45d5b7eee901",
   "metadata": {},
   "source": [
    "## II). Importing Datasets"
   ]
  },
  {
   "cell_type": "code",
   "execution_count": 2,
   "id": "53583016-04a7-4c06-95ee-48f3d72dbe95",
   "metadata": {},
   "outputs": [],
   "source": [
    "data_x = pd.read_csv(\"D:/Pramod Official/Projects/Internshala/DeepLearning/Assignment_4_data/Assignment_4_data/Movie_collection_Independent.csv\")"
   ]
  },
  {
   "cell_type": "code",
   "execution_count": 3,
   "id": "cb3913ad-2d6a-4e1f-902a-dfd756f758c2",
   "metadata": {},
   "outputs": [],
   "source": [
    "data_y = pd.read_csv(\"D:/Pramod Official/Projects/Internshala/DeepLearning/Assignment_4_data/Assignment_4_data/Movie_collection_Target.csv\")"
   ]
  },
  {
   "cell_type": "markdown",
   "id": "cdd34b3a-5a38-442d-8bdf-407af830c43f",
   "metadata": {},
   "source": [
    "## III). Looking shape and first five rows of both dataframes"
   ]
  },
  {
   "cell_type": "code",
   "execution_count": 4,
   "id": "6e236ef1-11a8-4528-ad08-6b2c3befb9fb",
   "metadata": {},
   "outputs": [
    {
     "name": "stdout",
     "output_type": "stream",
     "text": [
      "Shape of data_x: (506, 19)\n",
      "Shape of data_y: (506, 1)\n"
     ]
    }
   ],
   "source": [
    "print(\"Shape of data_x:\", data_x.shape)\n",
    "print(\"Shape of data_y:\", data_y.shape)"
   ]
  },
  {
   "cell_type": "code",
   "execution_count": 5,
   "id": "6551652a-869c-4385-b376-0bd2e905b57b",
   "metadata": {},
   "outputs": [
    {
     "name": "stdout",
     "output_type": "stream",
     "text": [
      "First 5 rows of data_x:\n",
      "   Marketin_expense  Production_expense  Multiplex_coverage     Budget  \\\n",
      "0           20.1264               59.62               0.462  36524.125   \n",
      "1           20.5462               69.14               0.531  35668.655   \n",
      "2           20.5458               69.14               0.531  39912.675   \n",
      "3           20.6474               59.36               0.542  38873.890   \n",
      "4           21.3810               59.36               0.542  39701.585   \n",
      "\n",
      "   Movie_length  Lead_ Actor_Rating  Lead_Actress_rating  Director_rating  \\\n",
      "0         138.7               7.825                8.095            7.910   \n",
      "1         152.4               7.505                7.650            7.440   \n",
      "2         134.6               7.485                7.570            7.495   \n",
      "3         119.3               6.895                7.035            6.920   \n",
      "4         127.7               6.920                7.070            6.815   \n",
      "\n",
      "   Producer_rating  Critic_rating  Trailer_views  Time_taken  Twitter_hastags  \\\n",
      "0            7.995           7.94         527367      109.60          223.840   \n",
      "1            7.470           7.44         494055      146.64          243.456   \n",
      "2            7.515           7.44         547051      147.88         2022.400   \n",
      "3            7.020           8.26         516279      185.36          225.344   \n",
      "4            7.070           8.26         531448      176.48          225.792   \n",
      "\n",
      "   Avg_age_actors  Num_multiplex  3D_available  Genre_Thriller  Genre_Drama  \\\n",
      "0              23            494             1               1            0   \n",
      "1              42            462             0               0            1   \n",
      "2              38            458             0               0            0   \n",
      "3              45            472             1               0            1   \n",
      "4              55            395             0               0            1   \n",
      "\n",
      "   Genre_Comedy  \n",
      "0             0  \n",
      "1             0  \n",
      "2             1  \n",
      "3             0  \n",
      "4             0  \n"
     ]
    }
   ],
   "source": [
    "print(\"First 5 rows of data_x:\")\n",
    "print(data_x.head())"
   ]
  },
  {
   "cell_type": "code",
   "execution_count": 6,
   "id": "53b8f134-3df4-4556-807a-39cb3425024e",
   "metadata": {},
   "outputs": [
    {
     "name": "stdout",
     "output_type": "stream",
     "text": [
      "First 5 rows of data_y:\n",
      "   Collection\n",
      "0    2.266667\n",
      "1    2.106667\n",
      "2    2.980000\n",
      "3    2.893333\n",
      "4    3.080000\n"
     ]
    }
   ],
   "source": [
    "print(\"First 5 rows of data_y:\")\n",
    "print(data_y.head())"
   ]
  },
  {
   "cell_type": "markdown",
   "id": "af1bc535-1172-4e75-b4d6-d509b14bc6da",
   "metadata": {},
   "source": [
    "## IV). Calculating Shape of train, test and validation set"
   ]
  },
  {
   "cell_type": "code",
   "execution_count": 18,
   "id": "33173706-a6d2-4771-8f10-8429af7d327f",
   "metadata": {},
   "outputs": [
    {
     "name": "stdout",
     "output_type": "stream",
     "text": [
      "Shape of training set: (404, 19)\n",
      "Shape of validation set: (81, 19)\n",
      "Shape of test set: (21, 19)\n"
     ]
    }
   ],
   "source": [
    "X_train, X_temp, y_train, y_temp = train_test_split(data_x, data_y, test_size=0.2, random_state=42)\n",
    "X_val, X_test, y_val, y_test = train_test_split(X_temp, y_temp, test_size=0.2, random_state=42)\n",
    "\n",
    "print(\"Shape of training set:\", X_train.shape)\n",
    "print(\"Shape of validation set:\", X_val.shape)\n",
    "print(\"Shape of test set:\", X_test.shape)"
   ]
  },
  {
   "cell_type": "markdown",
   "id": "e44c0fb5-2b2d-4a83-a780-c96ba3ba4fca",
   "metadata": {},
   "source": [
    "## V). Standardizing the data"
   ]
  },
  {
   "cell_type": "code",
   "execution_count": 8,
   "id": "f597fedb-c6c7-485f-bb53-685b3d23058d",
   "metadata": {},
   "outputs": [],
   "source": [
    "scaler = StandardScaler()\n",
    "X_train_scaled = scaler.fit_transform(X_train)\n",
    "X_val_scaled = scaler.transform(X_val)\n",
    "X_test_scaled = scaler.transform(X_test)"
   ]
  },
  {
   "cell_type": "markdown",
   "id": "6d81cbf0-09c4-4bc0-af6c-7f26ccfebe93",
   "metadata": {},
   "source": [
    "## VI). Creating an CNN Model"
   ]
  },
  {
   "cell_type": "code",
   "execution_count": 9,
   "id": "4287b040-e44a-438c-a7de-741f651ea908",
   "metadata": {},
   "outputs": [],
   "source": [
    "model = keras.models.Sequential([\n",
    "    keras.Input(shape=X_train_scaled.shape[1:]),\n",
    "    keras.layers.Dense(30, activation='relu'),\n",
    "    keras.layers.Dense(30, activation='relu'),\n",
    "    keras.layers.Dense(1)\n",
    "])"
   ]
  },
  {
   "cell_type": "markdown",
   "id": "5205a3f9-3a61-4f5a-b6c8-188ce2ec1243",
   "metadata": {},
   "source": [
    "## VII). Compiling the Model"
   ]
  },
  {
   "cell_type": "code",
   "execution_count": 10,
   "id": "e2fcc7cf-b7fb-4b82-8b15-c5c6c0885619",
   "metadata": {},
   "outputs": [],
   "source": [
    "model.compile(loss='mean_squared_error',\n",
    "              optimizer=keras.optimizers.SGD(learning_rate=1e-2),\n",
    "              metrics=['mae'])"
   ]
  },
  {
   "cell_type": "markdown",
   "id": "fea19e33-9f7a-4b34-baa8-e3797df97cb9",
   "metadata": {},
   "source": [
    "## VIII). Training the Model for 100 epochs"
   ]
  },
  {
   "cell_type": "code",
   "execution_count": 11,
   "id": "fca34024-1211-40de-8ef3-7cd75e056080",
   "metadata": {},
   "outputs": [],
   "source": [
    "history = model.fit(X_train_scaled, y_train, epochs=100, validation_data=(X_val_scaled, y_val), verbose=0)"
   ]
  },
  {
   "cell_type": "markdown",
   "id": "12edbc71-e3d0-4db7-8267-08733f244b19",
   "metadata": {},
   "source": [
    "## IX). Evaluating the Model Performance on the test set"
   ]
  },
  {
   "cell_type": "code",
   "execution_count": 12,
   "id": "bbda92f6-31bc-465c-86e1-24d10f3adbf8",
   "metadata": {},
   "outputs": [
    {
     "name": "stdout",
     "output_type": "stream",
     "text": [
      "\u001b[1m2/2\u001b[0m \u001b[32m━━━━━━━━━━━━━━━━━━━━\u001b[0m\u001b[37m\u001b[0m \u001b[1m0s\u001b[0m 6ms/step - loss: 0.0838 - mae: 0.2414 \n",
      "Test loss: 0.07827775925397873\n",
      "Test MAE: 0.23601782321929932\n"
     ]
    }
   ],
   "source": [
    "test_loss, test_mae = model.evaluate(X_test_scaled, y_test)\n",
    "print(\"Test loss:\", test_loss)\n",
    "print(\"Test MAE:\", test_mae)"
   ]
  },
  {
   "cell_type": "code",
   "execution_count": 13,
   "id": "66846228-f11c-4ca2-bc8b-5435e7f689b3",
   "metadata": {},
   "outputs": [
    {
     "name": "stdout",
     "output_type": "stream",
     "text": [
      "\u001b[1m2/2\u001b[0m \u001b[32m━━━━━━━━━━━━━━━━━━━━\u001b[0m\u001b[37m\u001b[0m \u001b[1m0s\u001b[0m 5ms/step - loss: 0.0838 - mae: 0.2414 \n",
      "Test Loss: 0.08\n",
      "Test MAE: 0.24\n"
     ]
    }
   ],
   "source": [
    "# Evaluating model performance on test set\n",
    "test_loss, test_mae = model.evaluate(X_test_scaled, y_test)\n",
    "print(f'Test Loss: {test_loss:.2f}')\n",
    "print(f'Test MAE: {test_mae:.2f}')"
   ]
  },
  {
   "cell_type": "code",
   "execution_count": 14,
   "id": "c1905eb7-d72d-4a7f-8a1a-8eca1dbd44d7",
   "metadata": {},
   "outputs": [
    {
     "data": {
      "image/png": "[encoded data removed]",
      "text/plain": [
       "<Figure size 640x480 with 1 Axes>"
      ]
     },
     "metadata": {},
     "output_type": "display_data"
    }
   ],
   "source": [
    "# Plotting loss curves\n",
    "plt.plot(history.history['loss'], label='Training Loss')\n",
    "plt.plot(history.history['val_loss'], label='Validation Loss')\n",
    "plt.xlabel('Epoch')\n",
    "plt.ylabel('Loss')\n",
    "plt.title('Training and Validation Loss')\n",
    "plt.legend()\n",
    "plt.show()"
   ]
  },
  {
   "cell_type": "code",
   "execution_count": 15,
   "id": "125615c2-8374-410b-aa66-780373d86584",
   "metadata": {},
   "outputs": [
    {
     "data": {
      "image/png": "[encoded data removed]",
      "text/plain": [
       "<Figure size 640x480 with 1 Axes>"
      ]
     },
     "metadata": {},
     "output_type": "display_data"
    }
   ],
   "source": [
    "# Plotting MAE curves\n",
    "plt.plot(history.history['mae'], label='Training MAE')\n",
    "plt.plot(history.history['val_mae'], label='Validation MAE')\n",
    "plt.xlabel('Epoch')\n",
    "plt.ylabel('MAE')\n",
    "plt.title('Training and Validation MAE')\n",
    "plt.legend()\n",
    "plt.show()"
   ]
  },
  {
   "cell_type": "markdown",
   "id": "5202229f-28a8-4998-bcd3-fe019a5c35e3",
   "metadata": {},
   "source": [
    "## X). Predicting the values of the first 5 test records"
   ]
  },
  {
   "cell_type": "code",
   "execution_count": 16,
   "id": "6d672c90-71dc-43a1-92eb-5ff80f642332",
   "metadata": {},
   "outputs": [
    {
     "name": "stdout",
     "output_type": "stream",
     "text": [
      "\u001b[1m1/1\u001b[0m \u001b[32m━━━━━━━━━━━━━━━━━━━━\u001b[0m\u001b[37m\u001b[0m \u001b[1m0s\u001b[0m 60ms/step\n",
      "Predictions: [1.87721   2.2368326 3.2721593 2.5562286 3.613384 ]\n"
     ]
    }
   ],
   "source": [
    "predictions = model.predict(X_test_scaled[:5])\n",
    "print('Predictions:', predictions.flatten())"
   ]
  },
  {
   "cell_type": "code",
   "execution_count": null,
   "id": "489f2851-0989-4b89-9168-479d8012e9b4",
   "metadata": {},
   "outputs": [],
   "source": []
  }
 ],
 "metadata": {
  "kernelspec": {
   "display_name": "Python 3 (ipykernel)",
   "language": "python",
   "name": "python3"
  },
  "language_info": {
   "codemirror_mode": {
    "name": "ipython",
    "version": 3
   },
   "file_extension": ".py",
   "mimetype": "text/x-python",
   "name": "python",
   "nbconvert_exporter": "python",
   "pygments_lexer": "ipython3",
   "version": "3.11.7"
  }
 },
 "nbformat": 4,
 "nbformat_minor": 5
}
